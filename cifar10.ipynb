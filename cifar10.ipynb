{
  "nbformat": 4,
  "nbformat_minor": 0,
  "metadata": {
    "colab": {
      "provenance": []
    },
    "kernelspec": {
      "name": "python3",
      "display_name": "Python 3"
    },
    "language_info": {
      "name": "python"
    }
  },
  "cells": [
    {
      "cell_type": "code",
      "execution_count": null,
      "metadata": {
        "colab": {
          "base_uri": "https://localhost:8080/"
        },
        "id": "SWaKnAJpk9-N",
        "outputId": "1d116c5d-a534-4d09-d7a9-8b658ff793e6"
      },
      "outputs": [
        {
          "output_type": "stream",
          "name": "stdout",
          "text": [
            "Downloading data from https://www.cs.toronto.edu/~kriz/cifar-10-python.tar.gz\n",
            "170498071/170498071 [==============================] - 2s 0us/step\n",
            "Dimensions des ensembles de données :\n",
            "Entraînement - Images : (50000, 32, 32, 3) Étiquettes : (50000, 1)\n",
            "Test - Images : (10000, 32, 32, 3) Étiquettes : (10000, 1)\n"
          ]
        }
      ],
      "source": [
        "import tensorflow as tf\n",
        "from tensorflow.keras.datasets import cifar10\n",
        "\n",
        "# Charger les données CIFAR-10\n",
        "(x_train, y_train), (x_test, y_test) = cifar10.load_data()\n",
        "\n",
        "# Vérifier les dimensions des ensembles de données\n",
        "print(\"Dimensions des ensembles de données :\")\n",
        "print(\"Entraînement - Images :\", x_train.shape, \"Étiquettes :\", y_train.shape)\n",
        "print(\"Test - Images :\", x_test.shape, \"Étiquettes :\", y_test.shape)"
      ]
    },
    {
      "cell_type": "code",
      "source": [
        "# Convertir les valeurs des pixels en flottants et les mettre à l'échelle entre 0 et 1\n",
        "x_train = x_train.astype('float32') / 255.0\n",
        "x_test = x_test.astype('float32') / 255.0\n",
        "\n",
        "# Vérifier les nouvelles valeurs des pixels\n",
        "print(\"Valeurs des pixels après mise à l'échelle :\")\n",
        "print(\"Valeur minimale :\", x_train.min())\n",
        "print(\"Valeur maximale :\", x_train.max())\n"
      ],
      "metadata": {
        "colab": {
          "base_uri": "https://localhost:8080/"
        },
        "id": "KQ4Ly6fxlcUY",
        "outputId": "2240bd66-40bc-48cb-c908-775ebf7aca1e"
      },
      "execution_count": null,
      "outputs": [
        {
          "output_type": "stream",
          "name": "stdout",
          "text": [
            "Valeurs des pixels après mise à l'échelle :\n",
            "Valeur minimale : 0.0\n",
            "Valeur maximale : 1.0\n"
          ]
        }
      ]
    },
    {
      "cell_type": "code",
      "source": [
        "from sklearn.model_selection import train_test_split\n",
        "\n",
        "# Diviser l'ensemble d'entraînement en un ensemble étiqueté et non étiqueté\n",
        "x_train_labeled, x_train_unlabeled, y_train_labeled, y_train_unlabeled = train_test_split(x_train, y_train, test_size=0.8, random_state=42)\n",
        "\n",
        "# Vérifier les dimensions des ensembles de données résultants\n",
        "print(\"Dimensions des ensembles de données étiquetés :\")\n",
        "print(\"Images :\", x_train_labeled.shape, \"Étiquettes :\", y_train_labeled.shape)\n",
        "print(\"Dimensions des ensembles de données non étiquetés :\")\n",
        "print(\"Images :\", x_train_unlabeled.shape, \"Étiquettes :\", y_train_unlabeled.shape)\n"
      ],
      "metadata": {
        "colab": {
          "base_uri": "https://localhost:8080/"
        },
        "id": "Pp778BBZlqWF",
        "outputId": "2806b60e-35f9-463f-9264-6758b3ba0574"
      },
      "execution_count": null,
      "outputs": [
        {
          "output_type": "stream",
          "name": "stdout",
          "text": [
            "Dimensions des ensembles de données étiquetés :\n",
            "Images : (10000, 32, 32, 3) Étiquettes : (10000, 1)\n",
            "Dimensions des ensembles de données non étiquetés :\n",
            "Images : (40000, 32, 32, 3) Étiquettes : (40000, 1)\n"
          ]
        }
      ]
    },
    {
      "cell_type": "code",
      "source": [
        "from tensorflow.keras.models import Model\n",
        "from tensorflow.keras.layers import Input, Conv2D, MaxPooling2D, UpSampling2D\n",
        "\n",
        "# Définir l'architecture de l'auto-encodeur\n",
        "input_img = Input(shape=(32, 32, 3))\n",
        "\n",
        "# Encoder\n",
        "x = Conv2D(32, (3, 3), activation='relu', padding='same')(input_img)\n",
        "x = MaxPooling2D((2, 2), padding='same')(x)\n",
        "x = Conv2D(64, (3, 3), activation='relu', padding='same')(x)\n",
        "x = MaxPooling2D((2, 2), padding='same')(x)\n",
        "x = Conv2D(128, (3, 3), activation='relu', padding='same')(x)\n",
        "encoded = MaxPooling2D((2, 2), padding='same')(x)\n",
        "\n",
        "# Decoder\n",
        "x = Conv2D(128, (3, 3), activation='relu', padding='same')(encoded)  # Ajout d'une couche convolutive\n",
        "x = UpSampling2D((2, 2))(x)\n",
        "x = Conv2D(64, (3, 3), activation='relu', padding='same')(x)\n",
        "x = UpSampling2D((2, 2))(x)\n",
        "x = Conv2D(32, (3, 3), activation='relu', padding='same')(x)\n",
        "x = UpSampling2D((2, 2))(x)\n",
        "decoded = Conv2D(3, (3, 3), activation='sigmoid', padding='same')(x)\n",
        "\n",
        "# Créer le modèle de l'auto-encodeur\n",
        "autoencoder = Model(input_img, decoded)\n",
        "\n",
        "# Compiler le modèle\n",
        "autoencoder.compile(optimizer='adam', loss='binary_crossentropy')\n"
      ],
      "metadata": {
        "id": "pv6PjXwimVt-"
      },
      "execution_count": null,
      "outputs": []
    },
    {
      "cell_type": "code",
      "source": [
        "# Entraîner l'auto-encodeur\n",
        "autoencoder.fit(x_train_unlabeled, x_train_unlabeled,\n",
        "                epochs=8,\n",
        "                batch_size=128,\n",
        "                shuffle=True,\n",
        "                validation_data=(x_test, x_test))"
      ],
      "metadata": {
        "colab": {
          "base_uri": "https://localhost:8080/"
        },
        "id": "DEPtJSzOmati",
        "outputId": "d8fc7086-a83c-4854-f1a0-87fefca78dd7"
      },
      "execution_count": null,
      "outputs": [
        {
          "output_type": "stream",
          "name": "stdout",
          "text": [
            "Epoch 1/8\n",
            "313/313 [==============================] - 230s 728ms/step - loss: 0.5944 - val_loss: 0.5765\n",
            "Epoch 2/8\n",
            "313/313 [==============================] - 225s 720ms/step - loss: 0.5736 - val_loss: 0.5749\n",
            "Epoch 3/8\n",
            "313/313 [==============================] - 225s 721ms/step - loss: 0.5704 - val_loss: 0.5697\n",
            "Epoch 4/8\n",
            "313/313 [==============================] - 225s 719ms/step - loss: 0.5678 - val_loss: 0.5673\n",
            "Epoch 5/8\n",
            "313/313 [==============================] - 233s 746ms/step - loss: 0.5659 - val_loss: 0.5652\n",
            "Epoch 6/8\n",
            "313/313 [==============================] - 226s 723ms/step - loss: 0.5641 - val_loss: 0.5642\n",
            "Epoch 7/8\n",
            "313/313 [==============================] - 227s 725ms/step - loss: 0.5631 - val_loss: 0.5636\n",
            "Epoch 8/8\n",
            "313/313 [==============================] - 225s 721ms/step - loss: 0.5625 - val_loss: 0.5630\n"
          ]
        },
        {
          "output_type": "execute_result",
          "data": {
            "text/plain": [
              "<keras.src.callbacks.History at 0x79da91c91690>"
            ]
          },
          "metadata": {},
          "execution_count": 19
        }
      ]
    },
    {
      "cell_type": "code",
      "source": [
        "# Obtenir les caractéristiques latentes des images non étiquetées\n",
        "features_unlabeled = autoencoder.predict(x_train_unlabeled)\n",
        "\n",
        "# Vérifier les dimensions des caractéristiques\n",
        "print(\"Dimensions des caractéristiques latentes des images non étiquetées :\", features_unlabeled.shape)"
      ],
      "metadata": {
        "colab": {
          "base_uri": "https://localhost:8080/"
        },
        "id": "t_WiVTRs2XfH",
        "outputId": "194e6efe-0160-4a17-e657-fe9cd2994221"
      },
      "execution_count": null,
      "outputs": [
        {
          "output_type": "stream",
          "name": "stdout",
          "text": [
            "1250/1250 [==============================] - 21s 17ms/step\n",
            "Dimensions des caractéristiques latentes des images non étiquetées : (40000, 32, 32, 3)\n"
          ]
        }
      ]
    },
    {
      "cell_type": "code",
      "source": [
        "from tensorflow.keras.models import Sequential\n",
        "from tensorflow.keras.layers import Dense, Flatten, Dropout\n",
        "\n",
        "# Créer le modèle de classification\n",
        "classifier = Sequential([\n",
        "    Flatten(input_shape=features_unlabeled.shape[1:]),\n",
        "    Dense(512, activation='relu'),\n",
        "    Dropout(0.5),\n",
        "    Dense(256, activation='relu'),\n",
        "    Dropout(0.5),\n",
        "    Dense(10, activation='softmax')\n",
        "])\n",
        "\n",
        "# Compiler le modèle\n",
        "classifier.compile(optimizer='adam',\n",
        "                   loss='sparse_categorical_crossentropy',\n",
        "                   metrics=['accuracy'])\n",
        "\n",
        "# Entraîner le modèle\n",
        "classifier.fit(features_unlabeled, y_train_unlabeled, epochs=10, batch_size=128, validation_split=0.2)\n"
      ],
      "metadata": {
        "colab": {
          "base_uri": "https://localhost:8080/"
        },
        "id": "XqMPhoWc2-J3",
        "outputId": "8283f5ce-5c6c-4d05-e2b3-f45778e80644"
      },
      "execution_count": null,
      "outputs": [
        {
          "output_type": "stream",
          "name": "stdout",
          "text": [
            "Epoch 1/10\n",
            "250/250 [==============================] - 12s 44ms/step - loss: 2.1862 - accuracy: 0.1878 - val_loss: 1.9689 - val_accuracy: 0.3018\n",
            "Epoch 2/10\n",
            "250/250 [==============================] - 11s 44ms/step - loss: 2.0425 - accuracy: 0.2290 - val_loss: 1.9516 - val_accuracy: 0.3090\n",
            "Epoch 3/10\n",
            "250/250 [==============================] - 11s 43ms/step - loss: 2.0187 - accuracy: 0.2407 - val_loss: 1.9500 - val_accuracy: 0.3302\n",
            "Epoch 4/10\n",
            "250/250 [==============================] - 10s 38ms/step - loss: 2.0089 - accuracy: 0.2418 - val_loss: 1.9476 - val_accuracy: 0.3221\n",
            "Epoch 5/10\n",
            "250/250 [==============================] - 10s 41ms/step - loss: 1.9906 - accuracy: 0.2470 - val_loss: 1.9648 - val_accuracy: 0.3327\n",
            "Epoch 6/10\n",
            "250/250 [==============================] - 10s 40ms/step - loss: 1.9754 - accuracy: 0.2555 - val_loss: 1.9707 - val_accuracy: 0.2999\n",
            "Epoch 7/10\n",
            "250/250 [==============================] - 11s 43ms/step - loss: 1.9712 - accuracy: 0.2594 - val_loss: 1.9409 - val_accuracy: 0.3360\n",
            "Epoch 8/10\n",
            "250/250 [==============================] - 10s 42ms/step - loss: 1.9639 - accuracy: 0.2626 - val_loss: 1.9221 - val_accuracy: 0.3436\n",
            "Epoch 9/10\n",
            "250/250 [==============================] - 10s 39ms/step - loss: 1.9602 - accuracy: 0.2627 - val_loss: 1.9373 - val_accuracy: 0.3230\n",
            "Epoch 10/10\n",
            "250/250 [==============================] - 10s 39ms/step - loss: 1.9582 - accuracy: 0.2618 - val_loss: 1.9065 - val_accuracy: 0.3425\n"
          ]
        },
        {
          "output_type": "execute_result",
          "data": {
            "text/plain": [
              "<keras.src.callbacks.History at 0x79da95cdb250>"
            ]
          },
          "metadata": {},
          "execution_count": 11
        }
      ]
    },
    {
      "cell_type": "code",
      "source": [
        "# Évaluer les performances du modèle sur l'ensemble de test\n",
        "test_loss, test_accuracy = classifier.evaluate(x_test, y_test)\n",
        "\n",
        "print(\"Perte sur l'ensemble de test :\", test_loss)\n",
        "print(\"Exactitude sur l'ensemble de test :\", test_accuracy)"
      ],
      "metadata": {
        "colab": {
          "base_uri": "https://localhost:8080/"
        },
        "id": "BzMtoDpk3ixb",
        "outputId": "98eadc7d-1d3e-47ef-b41f-7cfca06b8c6f"
      },
      "execution_count": null,
      "outputs": [
        {
          "output_type": "stream",
          "name": "stdout",
          "text": [
            "313/313 [==============================] - 2s 5ms/step - loss: 1.8919 - accuracy: 0.3411\n",
            "Perte sur l'ensemble de test : 1.8919435739517212\n",
            "Exactitude sur l'ensemble de test : 0.3411000072956085\n"
          ]
        }
      ]
    },
    {
      "cell_type": "code",
      "source": [
        "# Créer un nouveau modèle de classification pour les images originales\n",
        "classifier_original = Sequential([\n",
        "    Flatten(input_shape=(32, 32, 3)),  # Aplatir les images originales\n",
        "    Dense(128, activation='relu'),\n",
        "    Dense(10, activation='softmax')  # 10 classes pour CIFAR-10\n",
        "])\n",
        "\n",
        "# Compiler le modèle\n",
        "classifier_original.compile(optimizer='adam',\n",
        "                             loss='sparse_categorical_crossentropy',\n",
        "                             metrics=['accuracy'])\n",
        "\n",
        "# Entraîner le modèle sur les images originales\n",
        "classifier_original.fit(x_train_labeled, y_train_labeled, epochs=10, batch_size=128, validation_split=0.2)"
      ],
      "metadata": {
        "colab": {
          "base_uri": "https://localhost:8080/"
        },
        "id": "1Fc4HHnz35x-",
        "outputId": "7384d128-99fa-462f-836e-e746667eac95"
      },
      "execution_count": null,
      "outputs": [
        {
          "output_type": "stream",
          "name": "stdout",
          "text": [
            "Epoch 1/10\n",
            "63/63 [==============================] - 1s 14ms/step - loss: 2.2014 - accuracy: 0.2054 - val_loss: 2.0024 - val_accuracy: 0.2785\n",
            "Epoch 2/10\n",
            "63/63 [==============================] - 1s 11ms/step - loss: 1.9498 - accuracy: 0.3030 - val_loss: 1.8983 - val_accuracy: 0.3210\n",
            "Epoch 3/10\n",
            "63/63 [==============================] - 1s 11ms/step - loss: 1.8694 - accuracy: 0.3335 - val_loss: 1.9366 - val_accuracy: 0.3015\n",
            "Epoch 4/10\n",
            "63/63 [==============================] - 1s 11ms/step - loss: 1.8351 - accuracy: 0.3459 - val_loss: 1.8493 - val_accuracy: 0.3340\n",
            "Epoch 5/10\n",
            "63/63 [==============================] - 1s 11ms/step - loss: 1.7848 - accuracy: 0.3674 - val_loss: 1.8059 - val_accuracy: 0.3645\n",
            "Epoch 6/10\n",
            "63/63 [==============================] - 1s 11ms/step - loss: 1.7695 - accuracy: 0.3783 - val_loss: 1.7730 - val_accuracy: 0.3740\n",
            "Epoch 7/10\n",
            "63/63 [==============================] - 1s 11ms/step - loss: 1.7376 - accuracy: 0.3824 - val_loss: 1.7819 - val_accuracy: 0.3645\n",
            "Epoch 8/10\n",
            "63/63 [==============================] - 1s 11ms/step - loss: 1.7180 - accuracy: 0.3920 - val_loss: 1.7800 - val_accuracy: 0.3835\n",
            "Epoch 9/10\n",
            "63/63 [==============================] - 1s 11ms/step - loss: 1.7045 - accuracy: 0.4008 - val_loss: 1.7441 - val_accuracy: 0.3885\n",
            "Epoch 10/10\n",
            "63/63 [==============================] - 1s 11ms/step - loss: 1.6769 - accuracy: 0.4142 - val_loss: 1.7415 - val_accuracy: 0.3730\n"
          ]
        },
        {
          "output_type": "execute_result",
          "data": {
            "text/plain": [
              "<keras.src.callbacks.History at 0x79da9026d930>"
            ]
          },
          "metadata": {},
          "execution_count": 13
        }
      ]
    },
    {
      "cell_type": "code",
      "source": [
        "# Évaluer les performances du modèle sur l'ensemble de test\n",
        "test_loss_original, test_accuracy_original = classifier_original.evaluate(x_test, y_test)\n",
        "\n",
        "print(\"Perte sur l'ensemble de test avec les images originales :\", test_loss_original)\n",
        "print(\"Exactitude sur l'ensemble de test avec les images originales :\", test_accuracy_original)"
      ],
      "metadata": {
        "colab": {
          "base_uri": "https://localhost:8080/"
        },
        "id": "4kr6FQUk3-D3",
        "outputId": "7358aeb9-b076-40b2-d4a5-133dbe18cb3c"
      },
      "execution_count": null,
      "outputs": [
        {
          "output_type": "stream",
          "name": "stdout",
          "text": [
            "313/313 [==============================] - 1s 3ms/step - loss: 1.7476 - accuracy: 0.3817\n",
            "Perte sur l'ensemble de test avec les images originales : 1.7475665807724\n",
            "Exactitude sur l'ensemble de test avec les images originales : 0.3817000091075897\n"
          ]
        }
      ]
    }
  ]
}